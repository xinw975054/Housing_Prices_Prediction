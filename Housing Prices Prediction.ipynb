{
 "cells": [
  {
   "cell_type": "markdown",
   "metadata": {},
   "source": [
    "# Housing Prices Prediction\n",
    "\n",
    "**Xinran Wang**"
   ]
  },
  {
   "cell_type": "markdown",
   "metadata": {},
   "source": [
    "# Index\n",
    "\n",
    "- [Abstract](#Abstract)\n",
    "- [1. Introduction](#1.-Introduction)\n",
    "- [2. The Data](#2.-The-Data)\n",
    "    - [2.1 Import the Data](#2.1-Import-the-Data)\n",
    "    - [2.2 Data Exploration](#2.2-Data-Exploration)\n",
    "    - [2.3 Data Preparation](#2.3-Data-Preparation)\n",
    "    - [2.4 Correlation](#2.4-Correlation)\n",
    "- [3. Project Description](#3.-Project-Description)\n",
    "    - [3.1 Linear Regression](#3.1-Linear-Regression)\n",
    "    - [3.2 Analysis](#3.2-Analysis)\n",
    "    - [3.3 Results](#3.3-Results)\n",
    "    - [3.4 Verify Your Model Against Test Data](#3.4-Verify-Your-Model-Against-Test-Data)\n",
    "- [Conclusion](#Conclusion)\n",
    "- [References](#References)"
   ]
  },
  {
   "cell_type": "markdown",
   "metadata": {},
   "source": [
    "[Back to top](#Index)\n",
    "\n",
    "\n",
    "##  Abstract"
   ]
  },
  {
   "cell_type": "markdown",
   "metadata": {},
   "source": [
    "The result of the linear regression model shows the columns **YearRemodAdd,TotalBsmtSF,BedroomAbvGr,TotRmsAbvGrd,GarageYrBlt** have a strong linear correlation with the predicted column, **SalePrice**. In conclusion, as the selected attributes increase, the **SalePrice** increases accordingly, and vice versa."
   ]
  },
  {
   "cell_type": "markdown",
   "metadata": {},
   "source": [
    "[Back to top](#Index)\n",
    "\n",
    "\n",
    "## 1. Introduction\n"
   ]
  },
  {
   "cell_type": "markdown",
   "metadata": {},
   "source": [
    "This project is designed to find out the most appropriate independent variables linearly correlated to the dependent variable - housing prices we would like to discover in the houseSmallData datasets. To generate an accurate and rigorous result of the linear model to predict the housing prices, I will apply general steps of building a linear regression model using Python 3. Below is a brief walkthrough of the steps.\n",
    "1. Import data\n",
    "2. Data Preparation\n",
    "3. Exploratory Data Analysis\n",
    "4. Data Modeling\n",
    "5. Model Validation\n",
    "6. Analysis and Conclusion"
   ]
  },
  {
   "cell_type": "markdown",
   "metadata": {},
   "source": [
    "Here are the independent variables I choose to build the linear regression. All of them are numerical.\n",
    " \n",
    "* YearRemodAdd: Remodel date (same as construction date if no remodeling or additions)\n",
    "* TotalBsmtSF: Total square feet of basement area\n",
    "* BedroomAbvGr: Bedrooms above grade (does NOT include basement bedrooms)\n",
    "* TotRmsAbvGrd: Total rooms above grade (does not include bathrooms)\n",
    "* GarageYrBlt: Year garage was built"
   ]
  },
  {
   "cell_type": "markdown",
   "metadata": {},
   "source": [
    "[Back to top](#Index)\n",
    "\n",
    "## 2. The Data\n",
    "\n",
    "For each of the steps below, make sure you include a description of your steps as well as your complete code. "
   ]
  },
  {
   "cell_type": "code",
   "execution_count": 267,
   "metadata": {},
   "outputs": [],
   "source": [
    "#import the necessary packages\n",
    "import pandas as pd\n",
    "import numpy as np\n",
    "import matplotlib.pyplot as plt\n",
    "import seaborn as sns"
   ]
  },
  {
   "cell_type": "markdown",
   "metadata": {},
   "source": [
    "[Back to top](#Index)\n",
    "\n",
    "### 2.1 Import the Data\n",
    "\n",
    "Import the necessary libraries and the data for the project. Include any auxiliary pandas *functions* that can be used to retrieve preliminary information about your data.\n",
    "\n",
    "Make sure to include a description of the data."
   ]
  },
  {
   "cell_type": "code",
   "execution_count": 268,
   "metadata": {},
   "outputs": [
    {
     "data": {
      "text/html": [
       "<div>\n",
       "<style scoped>\n",
       "    .dataframe tbody tr th:only-of-type {\n",
       "        vertical-align: middle;\n",
       "    }\n",
       "\n",
       "    .dataframe tbody tr th {\n",
       "        vertical-align: top;\n",
       "    }\n",
       "\n",
       "    .dataframe thead th {\n",
       "        text-align: right;\n",
       "    }\n",
       "</style>\n",
       "<table border=\"1\" class=\"dataframe\">\n",
       "  <thead>\n",
       "    <tr style=\"text-align: right;\">\n",
       "      <th></th>\n",
       "      <th>Unnamed: 0</th>\n",
       "      <th>Id</th>\n",
       "      <th>MSSubClass</th>\n",
       "      <th>MSZoning</th>\n",
       "      <th>LotFrontage</th>\n",
       "      <th>LotArea</th>\n",
       "      <th>Street</th>\n",
       "      <th>Alley</th>\n",
       "      <th>LotShape</th>\n",
       "      <th>LandContour</th>\n",
       "      <th>...</th>\n",
       "      <th>PoolArea</th>\n",
       "      <th>PoolQC</th>\n",
       "      <th>Fence</th>\n",
       "      <th>MiscFeature</th>\n",
       "      <th>MiscVal</th>\n",
       "      <th>MoSold</th>\n",
       "      <th>YrSold</th>\n",
       "      <th>SaleType</th>\n",
       "      <th>SaleCondition</th>\n",
       "      <th>SalePrice</th>\n",
       "    </tr>\n",
       "  </thead>\n",
       "  <tbody>\n",
       "    <tr>\n",
       "      <th>0</th>\n",
       "      <td>0</td>\n",
       "      <td>1</td>\n",
       "      <td>60</td>\n",
       "      <td>RL</td>\n",
       "      <td>65.0</td>\n",
       "      <td>8450</td>\n",
       "      <td>Pave</td>\n",
       "      <td>NaN</td>\n",
       "      <td>Reg</td>\n",
       "      <td>Lvl</td>\n",
       "      <td>...</td>\n",
       "      <td>0</td>\n",
       "      <td>NaN</td>\n",
       "      <td>NaN</td>\n",
       "      <td>NaN</td>\n",
       "      <td>0</td>\n",
       "      <td>2</td>\n",
       "      <td>2008</td>\n",
       "      <td>WD</td>\n",
       "      <td>Normal</td>\n",
       "      <td>208500</td>\n",
       "    </tr>\n",
       "    <tr>\n",
       "      <th>1</th>\n",
       "      <td>1</td>\n",
       "      <td>2</td>\n",
       "      <td>20</td>\n",
       "      <td>RL</td>\n",
       "      <td>80.0</td>\n",
       "      <td>9600</td>\n",
       "      <td>Pave</td>\n",
       "      <td>NaN</td>\n",
       "      <td>Reg</td>\n",
       "      <td>Lvl</td>\n",
       "      <td>...</td>\n",
       "      <td>0</td>\n",
       "      <td>NaN</td>\n",
       "      <td>NaN</td>\n",
       "      <td>NaN</td>\n",
       "      <td>0</td>\n",
       "      <td>5</td>\n",
       "      <td>2007</td>\n",
       "      <td>WD</td>\n",
       "      <td>Normal</td>\n",
       "      <td>181500</td>\n",
       "    </tr>\n",
       "    <tr>\n",
       "      <th>2</th>\n",
       "      <td>2</td>\n",
       "      <td>3</td>\n",
       "      <td>60</td>\n",
       "      <td>RL</td>\n",
       "      <td>68.0</td>\n",
       "      <td>11250</td>\n",
       "      <td>Pave</td>\n",
       "      <td>NaN</td>\n",
       "      <td>IR1</td>\n",
       "      <td>Lvl</td>\n",
       "      <td>...</td>\n",
       "      <td>0</td>\n",
       "      <td>NaN</td>\n",
       "      <td>NaN</td>\n",
       "      <td>NaN</td>\n",
       "      <td>0</td>\n",
       "      <td>9</td>\n",
       "      <td>2008</td>\n",
       "      <td>WD</td>\n",
       "      <td>Normal</td>\n",
       "      <td>223500</td>\n",
       "    </tr>\n",
       "    <tr>\n",
       "      <th>3</th>\n",
       "      <td>3</td>\n",
       "      <td>4</td>\n",
       "      <td>70</td>\n",
       "      <td>RL</td>\n",
       "      <td>60.0</td>\n",
       "      <td>9550</td>\n",
       "      <td>Pave</td>\n",
       "      <td>NaN</td>\n",
       "      <td>IR1</td>\n",
       "      <td>Lvl</td>\n",
       "      <td>...</td>\n",
       "      <td>0</td>\n",
       "      <td>NaN</td>\n",
       "      <td>NaN</td>\n",
       "      <td>NaN</td>\n",
       "      <td>0</td>\n",
       "      <td>2</td>\n",
       "      <td>2006</td>\n",
       "      <td>WD</td>\n",
       "      <td>Abnorml</td>\n",
       "      <td>140000</td>\n",
       "    </tr>\n",
       "    <tr>\n",
       "      <th>4</th>\n",
       "      <td>4</td>\n",
       "      <td>5</td>\n",
       "      <td>60</td>\n",
       "      <td>RL</td>\n",
       "      <td>84.0</td>\n",
       "      <td>14260</td>\n",
       "      <td>Pave</td>\n",
       "      <td>NaN</td>\n",
       "      <td>IR1</td>\n",
       "      <td>Lvl</td>\n",
       "      <td>...</td>\n",
       "      <td>0</td>\n",
       "      <td>NaN</td>\n",
       "      <td>NaN</td>\n",
       "      <td>NaN</td>\n",
       "      <td>0</td>\n",
       "      <td>12</td>\n",
       "      <td>2008</td>\n",
       "      <td>WD</td>\n",
       "      <td>Normal</td>\n",
       "      <td>250000</td>\n",
       "    </tr>\n",
       "  </tbody>\n",
       "</table>\n",
       "<p>5 rows × 82 columns</p>\n",
       "</div>"
      ],
      "text/plain": [
       "   Unnamed: 0  Id  MSSubClass MSZoning  LotFrontage  LotArea Street Alley  \\\n",
       "0           0   1          60       RL         65.0     8450   Pave   NaN   \n",
       "1           1   2          20       RL         80.0     9600   Pave   NaN   \n",
       "2           2   3          60       RL         68.0    11250   Pave   NaN   \n",
       "3           3   4          70       RL         60.0     9550   Pave   NaN   \n",
       "4           4   5          60       RL         84.0    14260   Pave   NaN   \n",
       "\n",
       "  LotShape LandContour  ... PoolArea PoolQC Fence MiscFeature MiscVal MoSold  \\\n",
       "0      Reg         Lvl  ...        0    NaN   NaN         NaN       0      2   \n",
       "1      Reg         Lvl  ...        0    NaN   NaN         NaN       0      5   \n",
       "2      IR1         Lvl  ...        0    NaN   NaN         NaN       0      9   \n",
       "3      IR1         Lvl  ...        0    NaN   NaN         NaN       0      2   \n",
       "4      IR1         Lvl  ...        0    NaN   NaN         NaN       0     12   \n",
       "\n",
       "  YrSold SaleType  SaleCondition  SalePrice  \n",
       "0   2008       WD         Normal     208500  \n",
       "1   2007       WD         Normal     181500  \n",
       "2   2008       WD         Normal     223500  \n",
       "3   2006       WD        Abnorml     140000  \n",
       "4   2008       WD         Normal     250000  \n",
       "\n",
       "[5 rows x 82 columns]"
      ]
     },
     "execution_count": 268,
     "metadata": {},
     "output_type": "execute_result"
    }
   ],
   "source": [
    "#load and read the data, print a brief description of the dataset.\n",
    "df = pd.read_csv(r'C:\\Users\\kisek\\OneDrive\\Desktop\\job hunting\\MIT xPRO\\houseSmallData.csv')\n",
    "df.head()"
   ]
  },
  {
   "cell_type": "markdown",
   "metadata": {},
   "source": [
    "[Back to top](#Index)\n",
    "\n",
    "### 2.2 Data Exploration\n",
    "\n",
    "Create graphs displaying the relationships between the variables that you consider most important to solve the problem of predicting housing prices.\n",
    "\n",
    "\n",
    "Include a description of the results displayed by each *plot*."
   ]
  },
  {
   "cell_type": "code",
   "execution_count": 269,
   "metadata": {},
   "outputs": [
    {
     "data": {
      "text/plain": [
       "(100, 82)"
      ]
     },
     "execution_count": 269,
     "metadata": {},
     "output_type": "execute_result"
    }
   ],
   "source": [
    "#check number of rows and columns of the dataset\n",
    "df.shape"
   ]
  },
  {
   "cell_type": "code",
   "execution_count": 270,
   "metadata": {},
   "outputs": [
    {
     "name": "stdout",
     "output_type": "stream",
     "text": [
      "<class 'pandas.core.frame.DataFrame'>\n",
      "RangeIndex: 100 entries, 0 to 99\n",
      "Data columns (total 82 columns):\n",
      " #   Column         Non-Null Count  Dtype  \n",
      "---  ------         --------------  -----  \n",
      " 0   Unnamed: 0     100 non-null    int64  \n",
      " 1   Id             100 non-null    int64  \n",
      " 2   MSSubClass     100 non-null    int64  \n",
      " 3   MSZoning       100 non-null    object \n",
      " 4   LotFrontage    86 non-null     float64\n",
      " 5   LotArea        100 non-null    int64  \n",
      " 6   Street         100 non-null    object \n",
      " 7   Alley          6 non-null      object \n",
      " 8   LotShape       100 non-null    object \n",
      " 9   LandContour    100 non-null    object \n",
      " 10  Utilities      100 non-null    object \n",
      " 11  LotConfig      100 non-null    object \n",
      " 12  LandSlope      100 non-null    object \n",
      " 13  Neighborhood   100 non-null    object \n",
      " 14  Condition1     100 non-null    object \n",
      " 15  Condition2     100 non-null    object \n",
      " 16  BldgType       100 non-null    object \n",
      " 17  HouseStyle     100 non-null    object \n",
      " 18  OverallQual    100 non-null    int64  \n",
      " 19  OverallCond    100 non-null    int64  \n",
      " 20  YearBuilt      100 non-null    int64  \n",
      " 21  YearRemodAdd   100 non-null    int64  \n",
      " 22  RoofStyle      100 non-null    object \n",
      " 23  RoofMatl       100 non-null    object \n",
      " 24  Exterior1st    100 non-null    object \n",
      " 25  Exterior2nd    100 non-null    object \n",
      " 26  MasVnrType     100 non-null    object \n",
      " 27  MasVnrArea     100 non-null    float64\n",
      " 28  ExterQual      100 non-null    object \n",
      " 29  ExterCond      100 non-null    object \n",
      " 30  Foundation     100 non-null    object \n",
      " 31  BsmtQual       97 non-null     object \n",
      " 32  BsmtCond       97 non-null     object \n",
      " 33  BsmtExposure   97 non-null     object \n",
      " 34  BsmtFinType1   97 non-null     object \n",
      " 35  BsmtFinSF1     100 non-null    int64  \n",
      " 36  BsmtFinType2   97 non-null     object \n",
      " 37  BsmtFinSF2     100 non-null    int64  \n",
      " 38  BsmtUnfSF      100 non-null    int64  \n",
      " 39  TotalBsmtSF    100 non-null    int64  \n",
      " 40  Heating        100 non-null    object \n",
      " 41  HeatingQC      100 non-null    object \n",
      " 42  CentralAir     100 non-null    object \n",
      " 43  Electrical     100 non-null    object \n",
      " 44  1stFlrSF       100 non-null    int64  \n",
      " 45  2ndFlrSF       100 non-null    int64  \n",
      " 46  LowQualFinSF   100 non-null    int64  \n",
      " 47  GrLivArea      100 non-null    int64  \n",
      " 48  BsmtFullBath   100 non-null    int64  \n",
      " 49  BsmtHalfBath   100 non-null    int64  \n",
      " 50  FullBath       100 non-null    int64  \n",
      " 51  HalfBath       100 non-null    int64  \n",
      " 52  BedroomAbvGr   100 non-null    int64  \n",
      " 53  KitchenAbvGr   100 non-null    int64  \n",
      " 54  KitchenQual    100 non-null    object \n",
      " 55  TotRmsAbvGrd   100 non-null    int64  \n",
      " 56  Functional     100 non-null    object \n",
      " 57  Fireplaces     100 non-null    int64  \n",
      " 58  FireplaceQu    46 non-null     object \n",
      " 59  GarageType     94 non-null     object \n",
      " 60  GarageYrBlt    94 non-null     float64\n",
      " 61  GarageFinish   94 non-null     object \n",
      " 62  GarageCars     100 non-null    int64  \n",
      " 63  GarageArea     100 non-null    int64  \n",
      " 64  GarageQual     94 non-null     object \n",
      " 65  GarageCond     94 non-null     object \n",
      " 66  PavedDrive     100 non-null    object \n",
      " 67  WoodDeckSF     100 non-null    int64  \n",
      " 68  OpenPorchSF    100 non-null    int64  \n",
      " 69  EnclosedPorch  100 non-null    int64  \n",
      " 70  3SsnPorch      100 non-null    int64  \n",
      " 71  ScreenPorch    100 non-null    int64  \n",
      " 72  PoolArea       100 non-null    int64  \n",
      " 73  PoolQC         0 non-null      float64\n",
      " 74  Fence          23 non-null     object \n",
      " 75  MiscFeature    9 non-null      object \n",
      " 76  MiscVal        100 non-null    int64  \n",
      " 77  MoSold         100 non-null    int64  \n",
      " 78  YrSold         100 non-null    int64  \n",
      " 79  SaleType       100 non-null    object \n",
      " 80  SaleCondition  100 non-null    object \n",
      " 81  SalePrice      100 non-null    int64  \n",
      "dtypes: float64(4), int64(36), object(42)\n",
      "memory usage: 64.2+ KB\n"
     ]
    }
   ],
   "source": [
    "#interpret \n",
    "df.info()"
   ]
  },
  {
   "cell_type": "markdown",
   "metadata": {},
   "source": [
    "##### Below are five histograms showing the distribution of the five independent variables."
   ]
  },
  {
   "cell_type": "markdown",
   "metadata": {},
   "source": [
    "<span style=\"color:red\">\n",
    "YearRemodAdd: remodel happened mostly before 1970s and after 1990s."
   ]
  },
  {
   "cell_type": "code",
   "execution_count": 271,
   "metadata": {},
   "outputs": [
    {
     "data": {
      "text/plain": [
       "(array([14.,  8.,  9.,  8.,  2.,  4.,  3., 10., 17., 25.]),\n",
       " array([1950. , 1955.9, 1961.8, 1967.7, 1973.6, 1979.5, 1985.4, 1991.3,\n",
       "        1997.2, 2003.1, 2009. ]),\n",
       " <BarContainer object of 10 artists>)"
      ]
     },
     "execution_count": 271,
     "metadata": {},
     "output_type": "execute_result"
    },
    {
     "data": {
      "image/png": "[encoded data removed]",
      "text/plain": [
       "<Figure size 640x480 with 1 Axes>"
      ]
     },
     "metadata": {},
     "output_type": "display_data"
    }
   ],
   "source": [
    "plt.hist(df['YearRemodAdd'])"
   ]
  },
  {
   "cell_type": "markdown",
   "metadata": {},
   "source": [
    "<span style=\"color:red\">\n",
    "TotalBsmtSF: Total basement square feet is likely normal distributed. The mean of it is 1000."
   ]
  },
  {
   "cell_type": "code",
   "execution_count": 272,
   "metadata": {},
   "outputs": [
    {
     "data": {
      "text/plain": [
       "(array([ 3.,  3.,  8., 20., 26., 18.,  9., 10.,  2.,  1.]),\n",
       " array([   0. ,  222.3,  444.6,  666.9,  889.2, 1111.5, 1333.8, 1556.1,\n",
       "        1778.4, 2000.7, 2223. ]),\n",
       " <BarContainer object of 10 artists>)"
      ]
     },
     "execution_count": 272,
     "metadata": {},
     "output_type": "execute_result"
    },
    {
     "data": {
      "image/png": "[encoded data removed]",
      "text/plain": [
       "<Figure size 640x480 with 1 Axes>"
      ]
     },
     "metadata": {},
     "output_type": "display_data"
    }
   ],
   "source": [
    "plt.hist(df['TotalBsmtSF'])"
   ]
  },
  {
   "cell_type": "markdown",
   "metadata": {},
   "source": [
    "<span style=\"color:red\">\n",
    "BedroomAbvGr: Most grade of bedroom is greater than 2, and the most frequent grade is 3."
   ]
  },
  {
   "cell_type": "code",
   "execution_count": 273,
   "metadata": {},
   "outputs": [
    {
     "data": {
      "text/plain": [
       "(array([ 1.,  0.,  3.,  0.,  0., 30.,  0., 56.,  0., 10.]),\n",
       " array([0. , 0.4, 0.8, 1.2, 1.6, 2. , 2.4, 2.8, 3.2, 3.6, 4. ]),\n",
       " <BarContainer object of 10 artists>)"
      ]
     },
     "execution_count": 273,
     "metadata": {},
     "output_type": "execute_result"
    },
    {
     "data": {
      "image/png": "[encoded data removed]",
      "text/plain": [
       "<Figure size 640x480 with 1 Axes>"
      ]
     },
     "metadata": {},
     "output_type": "display_data"
    }
   ],
   "source": [
    "plt.hist(df['BedroomAbvGr'])"
   ]
  },
  {
   "cell_type": "markdown",
   "metadata": {},
   "source": [
    "<span style=\"color:red\">\n",
    "GarageYrBlt: garages are generally built after 1940s and have a rapid growth after 2000. This could be considered as the year whether vehicles become popular among residents."
   ]
  },
  {
   "cell_type": "code",
   "execution_count": 274,
   "metadata": {},
   "outputs": [
    {
     "data": {
      "text/plain": [
       "(array([ 1.,  5.,  2.,  2.,  6., 15., 15.,  5., 14., 29.]),\n",
       " array([1900. , 1910.9, 1921.8, 1932.7, 1943.6, 1954.5, 1965.4, 1976.3,\n",
       "        1987.2, 1998.1, 2009. ]),\n",
       " <BarContainer object of 10 artists>)"
      ]
     },
     "execution_count": 274,
     "metadata": {},
     "output_type": "execute_result"
    },
    {
     "data": {
      "image/png": "[encoded data removed]",
      "text/plain": [
       "<Figure size 640x480 with 1 Axes>"
      ]
     },
     "metadata": {},
     "output_type": "display_data"
    }
   ],
   "source": [
    "plt.hist(df['GarageYrBlt'])"
   ]
  },
  {
   "cell_type": "markdown",
   "metadata": {},
   "source": [
    "<span style=\"color:red\">\n",
    "TotRmsAbvGrd: compared with the low grade of bedroom, total room above grade is relatively higher, where we can see most of the grade is above 5."
   ]
  },
  {
   "cell_type": "code",
   "execution_count": 275,
   "metadata": {},
   "outputs": [
    {
     "data": {
      "text/plain": [
       "(array([ 8., 21., 36.,  0., 18.,  8.,  0.,  7.,  1.,  1.]),\n",
       " array([ 4. ,  4.7,  5.4,  6.1,  6.8,  7.5,  8.2,  8.9,  9.6, 10.3, 11. ]),\n",
       " <BarContainer object of 10 artists>)"
      ]
     },
     "execution_count": 275,
     "metadata": {},
     "output_type": "execute_result"
    },
    {
     "data": {
      "image/png": "[encoded data removed]",
      "text/plain": [
       "<Figure size 640x480 with 1 Axes>"
      ]
     },
     "metadata": {},
     "output_type": "display_data"
    }
   ],
   "source": [
    "plt.hist(df['TotRmsAbvGrd'])"
   ]
  },
  {
   "cell_type": "markdown",
   "metadata": {},
   "source": [
    "To get a better overall and clear view of all the 5 columns, we can put them into one image."
   ]
  },
  {
   "cell_type": "code",
   "execution_count": 276,
   "metadata": {},
   "outputs": [
    {
     "data": {
      "image/png": "[encoded data removed]",
      "text/plain": [
       "<Figure size 1500x1000 with 5 Axes>"
      ]
     },
     "metadata": {},
     "output_type": "display_data"
    }
   ],
   "source": [
    "fig, axes = plt.subplots(nrows=2, ncols=3, figsize=(15, 10))\n",
    "fig.suptitle('Distributions of Selected Columns', fontsize=16)\n",
    "\n",
    "# Plot the distributions\n",
    "sns.histplot(df['YearRemodAdd'], kde=True, ax=axes[0, 0])\n",
    "sns.histplot(df['TotalBsmtSF'], kde=True, ax=axes[0, 1])\n",
    "sns.histplot(df['BedroomAbvGr'], kde=True, ax=axes[0, 2])\n",
    "sns.histplot(df['TotRmsAbvGrd'], kde=True, ax=axes[1, 0])\n",
    "sns.histplot(df['GarageYrBlt'], kde=True, ax=axes[1, 1])\n",
    "\n",
    "# Remove the empty subplot\n",
    "fig.delaxes(axes[1, 2])\n",
    "\n",
    "# Adjust layout\n",
    "plt.tight_layout(rect=[0, 0, 1, 0.96])\n",
    "\n",
    "# Save the image to a local file\n",
    "plt.savefig('numeric_columns_distributions.png')\n",
    "\n",
    "# Display the plot\n",
    "plt.show()"
   ]
  },
  {
   "cell_type": "markdown",
   "metadata": {},
   "source": [
    "[Back to top](#Index)\n",
    "\n",
    "### 2.3 Data Preparation\n",
    "\n",
    "Determine if there are any missing values in the data. Did the data need to be reshaped? If yes, include a description of the steps you followed to clean the data.\n"
   ]
  },
  {
   "cell_type": "markdown",
   "metadata": {},
   "source": [
    "<span style=\"color:red\">\n",
    "There exists missing and null values in the table,to better understand the linear relationship between the independent and dependent variables, we first use only the numeric columns exclude boolean columns to build the model."
   ]
  },
  {
   "cell_type": "code",
   "execution_count": 277,
   "metadata": {},
   "outputs": [],
   "source": [
    "#Extract the numeric columns\n",
    "df_num = df.select_dtypes(include=[np.number])"
   ]
  },
  {
   "cell_type": "code",
   "execution_count": 278,
   "metadata": {},
   "outputs": [],
   "source": [
    "#Drop the duplicates. As a result, there is no duplicated records in this dataset.\n",
    "df_num = df_num.drop_duplicates()"
   ]
  },
  {
   "cell_type": "code",
   "execution_count": 279,
   "metadata": {},
   "outputs": [
    {
     "data": {
      "text/plain": [
       "(100, 40)"
      ]
     },
     "execution_count": 279,
     "metadata": {},
     "output_type": "execute_result"
    }
   ],
   "source": [
    "#Since we are using all numeric values, instead of dropping the null values, it would be more reasonable to fill the null values with zero value.\n",
    "df_num = df_num.fillna(0)\n",
    "df_num.shape"
   ]
  },
  {
   "cell_type": "markdown",
   "metadata": {},
   "source": [
    "Now that the data is cleaned, it's time for us to split the data into train&test."
   ]
  },
  {
   "cell_type": "code",
   "execution_count": 280,
   "metadata": {},
   "outputs": [
    {
     "name": "stdout",
     "output_type": "stream",
     "text": [
      "<class 'pandas.core.frame.DataFrame'>\n",
      "Int64Index: 30 entries, 0 to 29\n",
      "Data columns (total 40 columns):\n",
      " #   Column         Non-Null Count  Dtype  \n",
      "---  ------         --------------  -----  \n",
      " 0   Unnamed: 0     30 non-null     int64  \n",
      " 1   Id             30 non-null     int64  \n",
      " 2   MSSubClass     30 non-null     int64  \n",
      " 3   LotFrontage    30 non-null     float64\n",
      " 4   LotArea        30 non-null     int64  \n",
      " 5   OverallQual    30 non-null     int64  \n",
      " 6   OverallCond    30 non-null     int64  \n",
      " 7   YearBuilt      30 non-null     int64  \n",
      " 8   YearRemodAdd   30 non-null     int64  \n",
      " 9   MasVnrArea     30 non-null     float64\n",
      " 10  BsmtFinSF1     30 non-null     int64  \n",
      " 11  BsmtFinSF2     30 non-null     int64  \n",
      " 12  BsmtUnfSF      30 non-null     int64  \n",
      " 13  TotalBsmtSF    30 non-null     int64  \n",
      " 14  1stFlrSF       30 non-null     int64  \n",
      " 15  2ndFlrSF       30 non-null     int64  \n",
      " 16  LowQualFinSF   30 non-null     int64  \n",
      " 17  GrLivArea      30 non-null     int64  \n",
      " 18  BsmtFullBath   30 non-null     int64  \n",
      " 19  BsmtHalfBath   30 non-null     int64  \n",
      " 20  FullBath       30 non-null     int64  \n",
      " 21  HalfBath       30 non-null     int64  \n",
      " 22  BedroomAbvGr   30 non-null     int64  \n",
      " 23  KitchenAbvGr   30 non-null     int64  \n",
      " 24  TotRmsAbvGrd   30 non-null     int64  \n",
      " 25  Fireplaces     30 non-null     int64  \n",
      " 26  GarageYrBlt    30 non-null     float64\n",
      " 27  GarageCars     30 non-null     int64  \n",
      " 28  GarageArea     30 non-null     int64  \n",
      " 29  WoodDeckSF     30 non-null     int64  \n",
      " 30  OpenPorchSF    30 non-null     int64  \n",
      " 31  EnclosedPorch  30 non-null     int64  \n",
      " 32  3SsnPorch      30 non-null     int64  \n",
      " 33  ScreenPorch    30 non-null     int64  \n",
      " 34  PoolArea       30 non-null     int64  \n",
      " 35  PoolQC         30 non-null     float64\n",
      " 36  MiscVal        30 non-null     int64  \n",
      " 37  MoSold         30 non-null     int64  \n",
      " 38  YrSold         30 non-null     int64  \n",
      " 39  SalePrice      30 non-null     int64  \n",
      "dtypes: float64(4), int64(36)\n",
      "memory usage: 9.6 KB\n"
     ]
    }
   ],
   "source": [
    "#split the train and test data into 3:7\n",
    "train = df_num.iloc[0:30,:]\n",
    "test = df_num.iloc[0:70,:]\n",
    "train.info()"
   ]
  },
  {
   "cell_type": "markdown",
   "metadata": {},
   "source": [
    "[Back to top](#Index)\n",
    "\n",
    "### 2.4 Correlation\n",
    "\n",
    "Describe the correlation between the variables in your data. How can the correlation help you make an educated guess about how to proceed with your analysis? Will you explore different variables based on the correlation you found? If so, describe what you did and be sure to include what you found with the new set of variables."
   ]
  },
  {
   "cell_type": "code",
   "execution_count": 281,
   "metadata": {},
   "outputs": [
    {
     "data": {
      "text/plain": [
       "YearRemodAdd    0.717199\n",
       "TotalBsmtSF     0.696113\n",
       "BedroomAbvGr    0.660959\n",
       "GarageYrBlt     0.672778\n",
       "TotRmsAbvGrd    0.743459\n",
       "Name: SalePrice, dtype: float64"
      ]
     },
     "execution_count": 281,
     "metadata": {},
     "output_type": "execute_result"
    }
   ],
   "source": [
    "#generate correlation between selected columns and SalePrice\n",
    "selected_columns = ['YearRemodAdd', 'TotalBsmtSF', 'BedroomAbvGr','GarageYrBlt','TotRmsAbvGrd']\n",
    "corr_matrix = train[selected_columns + ['SalePrice']].corr()\n",
    "correlation_with_saleprice = corr_matrix.loc['SalePrice', selected_columns]\n",
    "correlation_with_saleprice"
   ]
  },
  {
   "cell_type": "markdown",
   "metadata": {},
   "source": [
    "The correlation between the selected columns and _SalePrice_ are listed above.Those columns are tested and compared with columns of similar attribute to get a closer _corr()_ value to 1 or -1, which represents they are strongly positive related or negative related."
   ]
  },
  {
   "cell_type": "markdown",
   "metadata": {},
   "source": [
    "\n",
    "[Back to top](#Index)\n",
    "\n",
    "## 3. Project Description\n",
    "\n"
   ]
  },
  {
   "cell_type": "markdown",
   "metadata": {},
   "source": [
    "\n",
    "The variables I selected are based on the complement of Dr. Williams' choices and comparison of similar attributes. For instance, Dr. Williams explored several attributes of garage, I added one more of them, garage built year. I also chose some new elements such as properties above grade. After selecting a range of my chosen variables, I used corr() function to see their correlation with _SalePrice_ and tried to use those correlation are close to 1 or -1."
   ]
  },
  {
   "cell_type": "markdown",
   "metadata": {},
   "source": [
    "[Back to top](#Index)\n",
    "\n",
    "### 3.1 Linear Regression"
   ]
  },
  {
   "cell_type": "markdown",
   "metadata": {},
   "source": [
    "#### Steps of applying a linear regression model with Python\n",
    "    \n",
    "1. Import libraries    \n",
    "2. Create a Linear Regression Model    \n",
    "3. Train the model    \n",
    "4. Make Predictions    \n",
    "5. Evaluate Model Performance\n",
    "6. Residual Analysis\n",
    "7. Visualize Results"
   ]
  },
  {
   "cell_type": "markdown",
   "metadata": {},
   "source": [
    "#### Why we should use linear regression in this project?\n",
    "It is straightforward to measure the correlation between the numeric dependent variable, _SalePrice_ and other numeric variables. Its simplicity, coupled with effectiveness in capturing linear patterns, makes it a foundational tool in data analysis and machine learning. The implementation in Python using scikit-learn streamlines the process, allowing for rapid development and evaluation of predictive models."
   ]
  },
  {
   "cell_type": "markdown",
   "metadata": {},
   "source": [
    "[Back to top](#Index)\n",
    "\n",
    "### 3.2 Analysis "
   ]
  },
  {
   "cell_type": "code",
   "execution_count": 282,
   "metadata": {},
   "outputs": [],
   "source": [
    "#define X,Y for the linear regression model\n",
    "X = train[selected_columns]\n",
    "Y = train['SalePrice']\n",
    "Y = Y.to_frame(name='SalePrice')"
   ]
  },
  {
   "cell_type": "code",
   "execution_count": 283,
   "metadata": {},
   "outputs": [
    {
     "name": "stdout",
     "output_type": "stream",
     "text": [
      "R^2 is: 0.8506814523097782\n"
     ]
    }
   ],
   "source": [
    "#Apply the linear regression model building steps including evaluate model performance\n",
    "from sklearn import linear_model\n",
    "lr = linear_model.LinearRegression()\n",
    "model = lr.fit(X,Y)\n",
    "predictions = model.predict(X)\n",
    "print(f\"R^2 is: {model.score(X,Y)}\")"
   ]
  },
  {
   "cell_type": "code",
   "execution_count": 284,
   "metadata": {},
   "outputs": [
    {
     "data": {
      "text/plain": [
       "(array([4., 2., 3., 2., 5., 3., 3., 2., 4., 2.]),\n",
       " array([-46520.52643901, -36835.89433099, -27151.26222297, -17466.63011496,\n",
       "         -7781.99800694,   1902.63410108,  11587.26620909,  21271.89831711,\n",
       "         30956.53042513,  40641.16253315,  50325.79464116]),\n",
       " <BarContainer object of 10 artists>)"
      ]
     },
     "execution_count": 284,
     "metadata": {},
     "output_type": "execute_result"
    },
    {
     "data": {
      "image/png": "[encoded data removed]",
      "text/plain": [
       "<Figure size 640x480 with 1 Axes>"
      ]
     },
     "metadata": {},
     "output_type": "display_data"
    }
   ],
   "source": [
    "#residual analysis\n",
    "plt.hist(Y - predictions)"
   ]
  },
  {
   "cell_type": "code",
   "execution_count": 285,
   "metadata": {},
   "outputs": [
    {
     "data": {
      "text/plain": [
       "<matplotlib.collections.PathCollection at 0x242a7293190>"
      ]
     },
     "execution_count": 285,
     "metadata": {},
     "output_type": "execute_result"
    },
    {
     "data": {
      "image/png": "[encoded data removed]",
      "text/plain": [
       "<Figure size 640x480 with 1 Axes>"
      ]
     },
     "metadata": {},
     "output_type": "display_data"
    }
   ],
   "source": [
    "#visualize the result with scatterplot\n",
    "plt.scatter(predictions, Y, color = 'blue')"
   ]
  },
  {
   "cell_type": "markdown",
   "metadata": {},
   "source": [
    "[Back to top](#Index)\n",
    "\n",
    "### 3.3 Results\n",
    "\n",
    " What are your results? Which model performed better? Can you explain why? Include a detailed summary and a description of the metrics used to compute the accuracy of your predictions.\n",
    "\n",
    "For each step, make sure you include your code. Ensure that your code is commented.\n",
    "\n"
   ]
  },
  {
   "cell_type": "markdown",
   "metadata": {},
   "source": [
    "**Model Results**\n",
    "\n",
    "The R-squared value of 0.85 indicates a strong linear relationship between the independent and dependent variables. However, the non-normal distribution of residuals suggests that the model may not capture certain patterns or outliers. Further exploration, such as examining influential data points or considering non-linear transformations, could enhance the model's performance.\n",
    "\n",
    "In the previous steps, I tried to update the fillna() function to dropna() or simply withdraw this code, but it would not influence the residuals distribution. In the variables I selected, there should exist outliers that influence the outcome.\n",
    "\n",
    "In conclusion, the script successfully builds a linear regression model with a high R-squared value compared with Dr.Williams' model, but the non-normal distribution of residuals warrants further investigation to uncover potential areas for model improvement. This iterative process of model evaluation and refinement is common in data analysis and machine learning to ensure robust and accurate predictions."
   ]
  },
  {
   "cell_type": "markdown",
   "metadata": {},
   "source": [
    "[Back to top](#Index)\n",
    "\n",
    "### 3.4 Verify Your Model Against Test Data\n",
    "\n",
    "Now that you have a prediction model, it's time to test your model against test data to confirm its accuracy on new data. The test data is located in the file `jtest.csv` \n",
    "\n",
    "What do you observe? Are these results in accordance with what you found earlier? How can you justify this?"
   ]
  },
  {
   "cell_type": "markdown",
   "metadata": {},
   "source": [
    "Apply exact the same methodology and steps on the _**jest.csv**_ to generate the linear model. "
   ]
  },
  {
   "cell_type": "code",
   "execution_count": 286,
   "metadata": {},
   "outputs": [
    {
     "data": {
      "text/html": [
       "<div>\n",
       "<style scoped>\n",
       "    .dataframe tbody tr th:only-of-type {\n",
       "        vertical-align: middle;\n",
       "    }\n",
       "\n",
       "    .dataframe tbody tr th {\n",
       "        vertical-align: top;\n",
       "    }\n",
       "\n",
       "    .dataframe thead th {\n",
       "        text-align: right;\n",
       "    }\n",
       "</style>\n",
       "<table border=\"1\" class=\"dataframe\">\n",
       "  <thead>\n",
       "    <tr style=\"text-align: right;\">\n",
       "      <th></th>\n",
       "      <th>Unnamed: 0</th>\n",
       "      <th>Id</th>\n",
       "      <th>MSSubClass</th>\n",
       "      <th>MSZoning</th>\n",
       "      <th>LotFrontage</th>\n",
       "      <th>LotArea</th>\n",
       "      <th>Street</th>\n",
       "      <th>Alley</th>\n",
       "      <th>LotShape</th>\n",
       "      <th>LandContour</th>\n",
       "      <th>...</th>\n",
       "      <th>PoolArea</th>\n",
       "      <th>PoolQC</th>\n",
       "      <th>Fence</th>\n",
       "      <th>MiscFeature</th>\n",
       "      <th>MiscVal</th>\n",
       "      <th>MoSold</th>\n",
       "      <th>YrSold</th>\n",
       "      <th>SaleType</th>\n",
       "      <th>SaleCondition</th>\n",
       "      <th>SalePrice</th>\n",
       "    </tr>\n",
       "  </thead>\n",
       "  <tbody>\n",
       "    <tr>\n",
       "      <th>0</th>\n",
       "      <td>100</td>\n",
       "      <td>101</td>\n",
       "      <td>20</td>\n",
       "      <td>RL</td>\n",
       "      <td>0.0</td>\n",
       "      <td>10603</td>\n",
       "      <td>Pave</td>\n",
       "      <td>0</td>\n",
       "      <td>IR1</td>\n",
       "      <td>Lvl</td>\n",
       "      <td>...</td>\n",
       "      <td>0</td>\n",
       "      <td>0</td>\n",
       "      <td>0</td>\n",
       "      <td>0</td>\n",
       "      <td>0</td>\n",
       "      <td>2</td>\n",
       "      <td>2010</td>\n",
       "      <td>WD</td>\n",
       "      <td>Normal</td>\n",
       "      <td>205000</td>\n",
       "    </tr>\n",
       "    <tr>\n",
       "      <th>1</th>\n",
       "      <td>101</td>\n",
       "      <td>102</td>\n",
       "      <td>60</td>\n",
       "      <td>RL</td>\n",
       "      <td>77.0</td>\n",
       "      <td>9206</td>\n",
       "      <td>Pave</td>\n",
       "      <td>0</td>\n",
       "      <td>Reg</td>\n",
       "      <td>Lvl</td>\n",
       "      <td>...</td>\n",
       "      <td>0</td>\n",
       "      <td>0</td>\n",
       "      <td>0</td>\n",
       "      <td>0</td>\n",
       "      <td>0</td>\n",
       "      <td>6</td>\n",
       "      <td>2010</td>\n",
       "      <td>WD</td>\n",
       "      <td>Normal</td>\n",
       "      <td>178000</td>\n",
       "    </tr>\n",
       "    <tr>\n",
       "      <th>2</th>\n",
       "      <td>102</td>\n",
       "      <td>103</td>\n",
       "      <td>90</td>\n",
       "      <td>RL</td>\n",
       "      <td>64.0</td>\n",
       "      <td>7018</td>\n",
       "      <td>Pave</td>\n",
       "      <td>0</td>\n",
       "      <td>Reg</td>\n",
       "      <td>Bnk</td>\n",
       "      <td>...</td>\n",
       "      <td>0</td>\n",
       "      <td>0</td>\n",
       "      <td>0</td>\n",
       "      <td>0</td>\n",
       "      <td>0</td>\n",
       "      <td>6</td>\n",
       "      <td>2009</td>\n",
       "      <td>WD</td>\n",
       "      <td>Alloca</td>\n",
       "      <td>118964</td>\n",
       "    </tr>\n",
       "    <tr>\n",
       "      <th>3</th>\n",
       "      <td>103</td>\n",
       "      <td>104</td>\n",
       "      <td>20</td>\n",
       "      <td>RL</td>\n",
       "      <td>94.0</td>\n",
       "      <td>10402</td>\n",
       "      <td>Pave</td>\n",
       "      <td>0</td>\n",
       "      <td>IR1</td>\n",
       "      <td>Lvl</td>\n",
       "      <td>...</td>\n",
       "      <td>0</td>\n",
       "      <td>0</td>\n",
       "      <td>0</td>\n",
       "      <td>0</td>\n",
       "      <td>0</td>\n",
       "      <td>5</td>\n",
       "      <td>2010</td>\n",
       "      <td>WD</td>\n",
       "      <td>Normal</td>\n",
       "      <td>198900</td>\n",
       "    </tr>\n",
       "    <tr>\n",
       "      <th>4</th>\n",
       "      <td>104</td>\n",
       "      <td>105</td>\n",
       "      <td>50</td>\n",
       "      <td>RM</td>\n",
       "      <td>0.0</td>\n",
       "      <td>7758</td>\n",
       "      <td>Pave</td>\n",
       "      <td>0</td>\n",
       "      <td>Reg</td>\n",
       "      <td>Lvl</td>\n",
       "      <td>...</td>\n",
       "      <td>0</td>\n",
       "      <td>0</td>\n",
       "      <td>0</td>\n",
       "      <td>0</td>\n",
       "      <td>0</td>\n",
       "      <td>6</td>\n",
       "      <td>2007</td>\n",
       "      <td>WD</td>\n",
       "      <td>Normal</td>\n",
       "      <td>169500</td>\n",
       "    </tr>\n",
       "    <tr>\n",
       "      <th>...</th>\n",
       "      <td>...</td>\n",
       "      <td>...</td>\n",
       "      <td>...</td>\n",
       "      <td>...</td>\n",
       "      <td>...</td>\n",
       "      <td>...</td>\n",
       "      <td>...</td>\n",
       "      <td>...</td>\n",
       "      <td>...</td>\n",
       "      <td>...</td>\n",
       "      <td>...</td>\n",
       "      <td>...</td>\n",
       "      <td>...</td>\n",
       "      <td>...</td>\n",
       "      <td>...</td>\n",
       "      <td>...</td>\n",
       "      <td>...</td>\n",
       "      <td>...</td>\n",
       "      <td>...</td>\n",
       "      <td>...</td>\n",
       "      <td>...</td>\n",
       "    </tr>\n",
       "    <tr>\n",
       "      <th>95</th>\n",
       "      <td>195</td>\n",
       "      <td>196</td>\n",
       "      <td>160</td>\n",
       "      <td>RL</td>\n",
       "      <td>24.0</td>\n",
       "      <td>2280</td>\n",
       "      <td>Pave</td>\n",
       "      <td>0</td>\n",
       "      <td>Reg</td>\n",
       "      <td>Lvl</td>\n",
       "      <td>...</td>\n",
       "      <td>0</td>\n",
       "      <td>0</td>\n",
       "      <td>0</td>\n",
       "      <td>0</td>\n",
       "      <td>0</td>\n",
       "      <td>7</td>\n",
       "      <td>2009</td>\n",
       "      <td>WD</td>\n",
       "      <td>Normal</td>\n",
       "      <td>148500</td>\n",
       "    </tr>\n",
       "    <tr>\n",
       "      <th>96</th>\n",
       "      <td>196</td>\n",
       "      <td>197</td>\n",
       "      <td>20</td>\n",
       "      <td>RL</td>\n",
       "      <td>79.0</td>\n",
       "      <td>9416</td>\n",
       "      <td>Pave</td>\n",
       "      <td>0</td>\n",
       "      <td>Reg</td>\n",
       "      <td>Lvl</td>\n",
       "      <td>...</td>\n",
       "      <td>0</td>\n",
       "      <td>0</td>\n",
       "      <td>0</td>\n",
       "      <td>0</td>\n",
       "      <td>0</td>\n",
       "      <td>9</td>\n",
       "      <td>2007</td>\n",
       "      <td>New</td>\n",
       "      <td>Partial</td>\n",
       "      <td>311872</td>\n",
       "    </tr>\n",
       "    <tr>\n",
       "      <th>97</th>\n",
       "      <td>197</td>\n",
       "      <td>198</td>\n",
       "      <td>75</td>\n",
       "      <td>RL</td>\n",
       "      <td>174.0</td>\n",
       "      <td>25419</td>\n",
       "      <td>Pave</td>\n",
       "      <td>0</td>\n",
       "      <td>Reg</td>\n",
       "      <td>Lvl</td>\n",
       "      <td>...</td>\n",
       "      <td>512</td>\n",
       "      <td>Ex</td>\n",
       "      <td>GdPrv</td>\n",
       "      <td>0</td>\n",
       "      <td>0</td>\n",
       "      <td>3</td>\n",
       "      <td>2006</td>\n",
       "      <td>WD</td>\n",
       "      <td>Abnorml</td>\n",
       "      <td>235000</td>\n",
       "    </tr>\n",
       "    <tr>\n",
       "      <th>98</th>\n",
       "      <td>198</td>\n",
       "      <td>199</td>\n",
       "      <td>75</td>\n",
       "      <td>RM</td>\n",
       "      <td>92.0</td>\n",
       "      <td>5520</td>\n",
       "      <td>Pave</td>\n",
       "      <td>0</td>\n",
       "      <td>Reg</td>\n",
       "      <td>Lvl</td>\n",
       "      <td>...</td>\n",
       "      <td>0</td>\n",
       "      <td>0</td>\n",
       "      <td>MnPrv</td>\n",
       "      <td>0</td>\n",
       "      <td>0</td>\n",
       "      <td>7</td>\n",
       "      <td>2009</td>\n",
       "      <td>WD</td>\n",
       "      <td>Abnorml</td>\n",
       "      <td>104000</td>\n",
       "    </tr>\n",
       "    <tr>\n",
       "      <th>99</th>\n",
       "      <td>199</td>\n",
       "      <td>200</td>\n",
       "      <td>20</td>\n",
       "      <td>RL</td>\n",
       "      <td>76.0</td>\n",
       "      <td>9591</td>\n",
       "      <td>Pave</td>\n",
       "      <td>0</td>\n",
       "      <td>Reg</td>\n",
       "      <td>Lvl</td>\n",
       "      <td>...</td>\n",
       "      <td>0</td>\n",
       "      <td>0</td>\n",
       "      <td>0</td>\n",
       "      <td>0</td>\n",
       "      <td>0</td>\n",
       "      <td>1</td>\n",
       "      <td>2009</td>\n",
       "      <td>WD</td>\n",
       "      <td>Normal</td>\n",
       "      <td>274900</td>\n",
       "    </tr>\n",
       "  </tbody>\n",
       "</table>\n",
       "<p>100 rows × 82 columns</p>\n",
       "</div>"
      ],
      "text/plain": [
       "    Unnamed: 0   Id  MSSubClass MSZoning  LotFrontage  LotArea Street Alley  \\\n",
       "0          100  101          20       RL          0.0    10603   Pave     0   \n",
       "1          101  102          60       RL         77.0     9206   Pave     0   \n",
       "2          102  103          90       RL         64.0     7018   Pave     0   \n",
       "3          103  104          20       RL         94.0    10402   Pave     0   \n",
       "4          104  105          50       RM          0.0     7758   Pave     0   \n",
       "..         ...  ...         ...      ...          ...      ...    ...   ...   \n",
       "95         195  196         160       RL         24.0     2280   Pave     0   \n",
       "96         196  197          20       RL         79.0     9416   Pave     0   \n",
       "97         197  198          75       RL        174.0    25419   Pave     0   \n",
       "98         198  199          75       RM         92.0     5520   Pave     0   \n",
       "99         199  200          20       RL         76.0     9591   Pave     0   \n",
       "\n",
       "   LotShape LandContour  ... PoolArea PoolQC  Fence MiscFeature MiscVal  \\\n",
       "0       IR1         Lvl  ...        0      0      0           0       0   \n",
       "1       Reg         Lvl  ...        0      0      0           0       0   \n",
       "2       Reg         Bnk  ...        0      0      0           0       0   \n",
       "3       IR1         Lvl  ...        0      0      0           0       0   \n",
       "4       Reg         Lvl  ...        0      0      0           0       0   \n",
       "..      ...         ...  ...      ...    ...    ...         ...     ...   \n",
       "95      Reg         Lvl  ...        0      0      0           0       0   \n",
       "96      Reg         Lvl  ...        0      0      0           0       0   \n",
       "97      Reg         Lvl  ...      512     Ex  GdPrv           0       0   \n",
       "98      Reg         Lvl  ...        0      0  MnPrv           0       0   \n",
       "99      Reg         Lvl  ...        0      0      0           0       0   \n",
       "\n",
       "   MoSold YrSold SaleType  SaleCondition  SalePrice  \n",
       "0       2   2010       WD         Normal     205000  \n",
       "1       6   2010       WD         Normal     178000  \n",
       "2       6   2009       WD         Alloca     118964  \n",
       "3       5   2010       WD         Normal     198900  \n",
       "4       6   2007       WD         Normal     169500  \n",
       "..    ...    ...      ...            ...        ...  \n",
       "95      7   2009       WD         Normal     148500  \n",
       "96      9   2007      New        Partial     311872  \n",
       "97      3   2006       WD        Abnorml     235000  \n",
       "98      7   2009       WD        Abnorml     104000  \n",
       "99      1   2009       WD         Normal     274900  \n",
       "\n",
       "[100 rows x 82 columns]"
      ]
     },
     "execution_count": 286,
     "metadata": {},
     "output_type": "execute_result"
    }
   ],
   "source": [
    "df_new = pd.read_csv(r'C:\\Users\\kisek\\OneDrive\\Desktop\\job hunting\\MIT xPRO\\jtest.csv')\n",
    "df_new = df_new.fillna(0)\n",
    "df_new"
   ]
  },
  {
   "cell_type": "code",
   "execution_count": 287,
   "metadata": {},
   "outputs": [
    {
     "data": {
      "text/plain": [
       "YearRemodAdd    0.459630\n",
       "TotalBsmtSF     0.548819\n",
       "BedroomAbvGr    0.022901\n",
       "GarageYrBlt     0.348880\n",
       "TotRmsAbvGrd    0.600238\n",
       "Name: SalePrice, dtype: float64"
      ]
     },
     "execution_count": 287,
     "metadata": {},
     "output_type": "execute_result"
    }
   ],
   "source": [
    "selected_columns = ['YearRemodAdd', 'TotalBsmtSF', 'BedroomAbvGr','GarageYrBlt','TotRmsAbvGrd']\n",
    "corr_matrix = df_new[selected_columns + ['SalePrice']].corr()\n",
    "correlation_with_saleprice = corr_matrix.loc['SalePrice', selected_columns]\n",
    "correlation_with_saleprice"
   ]
  },
  {
   "cell_type": "code",
   "execution_count": 288,
   "metadata": {},
   "outputs": [],
   "source": [
    "X = df_new[selected_columns]\n",
    "Y = df_new['SalePrice']\n",
    "Y = Y.to_frame(name='SalePrice')"
   ]
  },
  {
   "cell_type": "code",
   "execution_count": 289,
   "metadata": {},
   "outputs": [
    {
     "name": "stdout",
     "output_type": "stream",
     "text": [
      "R^2 is: 0.7010784994921424\n"
     ]
    }
   ],
   "source": [
    "lr = linear_model.LinearRegression()\n",
    "model = lr.fit(X,Y)\n",
    "predictions = model.predict(X)\n",
    "print(f\"R^2 is: {model.score(X,Y)}\")"
   ]
  },
  {
   "cell_type": "code",
   "execution_count": 290,
   "metadata": {},
   "outputs": [
    {
     "data": {
      "text/plain": [
       "(array([ 3.,  8.,  8., 15., 26., 17., 13.,  7.,  1.,  2.]),\n",
       " array([-104562.06788433,  -81904.69423531,  -59247.3205863 ,\n",
       "         -36589.94693728,  -13932.57328827,    8724.80036075,\n",
       "          31382.17400976,   54039.54765878,   76696.92130779,\n",
       "          99354.29495681,  122011.66860582]),\n",
       " <BarContainer object of 10 artists>)"
      ]
     },
     "execution_count": 290,
     "metadata": {},
     "output_type": "execute_result"
    },
    {
     "data": {
      "image/png": "[encoded data removed]",
      "text/plain": [
       "<Figure size 640x480 with 1 Axes>"
      ]
     },
     "metadata": {},
     "output_type": "display_data"
    }
   ],
   "source": [
    "plt.hist(Y - predictions)"
   ]
  },
  {
   "cell_type": "code",
   "execution_count": 291,
   "metadata": {},
   "outputs": [
    {
     "data": {
      "text/plain": [
       "<matplotlib.collections.PathCollection at 0x242a7146a50>"
      ]
     },
     "execution_count": 291,
     "metadata": {},
     "output_type": "execute_result"
    },
    {
     "data": {
      "image/png": "[encoded data removed]",
      "text/plain": [
       "<Figure size 640x480 with 1 Axes>"
      ]
     },
     "metadata": {},
     "output_type": "display_data"
    }
   ],
   "source": [
    "plt.scatter(predictions, Y, color = 'r')"
   ]
  },
  {
   "cell_type": "markdown",
   "metadata": {},
   "source": [
    "#### Result from Testing Data\n",
    "Oberving from the result, we can see the strength of linear correlation is slightly decreased (from 0.85 to 0.7), yet we can still say the linear correlation is strong. But the residuals are normally distributed this time, with a similar linear scatter plot. We could see this is a fairly good result on the test data."
   ]
  },
  {
   "cell_type": "markdown",
   "metadata": {},
   "source": [
    "[Back to top](#Index)\n",
    "\n",
    "## Conclusion\n",
    "\n",
    "Describe your conclusions. Explain which approach worked better in terms of results. What did you learn about data analysis techniques by creating your prediction model?\n",
    "\n"
   ]
  },
  {
   "cell_type": "markdown",
   "metadata": {},
   "source": [
    "In conclusion, the linear regression model built by the variables I selected gave a better result compared with Dr.Williams' model. It gives a higher R-squared value indicating a stronger linear relationship and also a reasonable result of applying on the test data. However, it's also observed that outliers exist in my model, which brings the histogram of residual is not normally distributed. To further evaluate this model, we should find the exact outliers and make update on them to let the residual distribution look better.\n",
    "\n",
    "There are mainly two points I learnt from this project:\n",
    "1. To select the variables with stronger correlation with the independent variable. This is significant because if the variables is initially weak correlated with the independent variable, it won't give us a favorable model result. By doing this, we should be patient on comparing the correlation between similar variables.\n",
    "2. To deal with null values plays another important role. In the test data, if I leave the null values in the table, the model will run into an error as many null values exists in the data. We should also be careful when selecting to drop the null value or replace the null value with 0. In my model, it would be reasonable to replace the null value with other values rather than 0 to get a better residual distribution.\n"
   ]
  },
  {
   "cell_type": "markdown",
   "metadata": {},
   "source": [
    "Khandelwal, Renu. \"Linear Regression\". _Medium_, https://medium.datadriveninvestor.com/linear-regression-794f841adbcf"
   ]
  }
 ],
 "metadata": {
  "kernelspec": {
   "display_name": "Python 3 (ipykernel)",
   "language": "python",
   "name": "python3"
  },
  "language_info": {
   "codemirror_mode": {
    "name": "ipython",
    "version": 3
   },
   "file_extension": ".py",
   "mimetype": "text/x-python",
   "name": "python",
   "nbconvert_exporter": "python",
   "pygments_lexer": "ipython3",
   "version": "3.11.4"
  }
 },
 "nbformat": 4,
 "nbformat_minor": 4
}
